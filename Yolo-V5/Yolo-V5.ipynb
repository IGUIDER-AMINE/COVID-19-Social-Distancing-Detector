{
 "cells": [
  {
   "cell_type": "code",
   "execution_count": 7,
   "id": "e81cbac7",
   "metadata": {},
   "outputs": [],
   "source": [
    "from math import sqrt\n",
    "import torch\n",
    "import numpy as np\n",
    "import cv2\n",
    "def Center(x,y,x1,y1):\n",
    "    Cx=x+(x1-x)//2\n",
    "    Cy=y+(y1-y)//2\n",
    "    return (Cx,Cy)\n",
    "def Distance(x,y,x1,y1):\n",
    "    distance=sqrt((x-x1)**2+(y-y1)**2)\n",
    "    return distance"
   ]
  },
  {
   "cell_type": "code",
   "execution_count": 8,
   "id": "de01045c",
   "metadata": {},
   "outputs": [
    {
     "name": "stdout",
     "output_type": "stream",
     "text": [
      "entrer la distance :40\n"
     ]
    },
    {
     "name": "stderr",
     "output_type": "stream",
     "text": [
      "Using cache found in C:\\Users\\DELL/.cache\\torch\\hub\\ultralytics_yolov5_master\n",
      "YOLOv5  2022-3-28 torch 1.11.0+cpu CPU\n",
      "\n",
      "Fusing layers... \n",
      "YOLOv5s summary: 213 layers, 7225885 parameters, 0 gradients\n",
      "Adding AutoShape... \n"
     ]
    }
   ],
   "source": [
    "distanceInit=int(input(\"entrer la distance :\"))\n",
    "model = torch.hub.load('ultralytics/yolov5', 'yolov5s', pretrained=True)\n",
    "vedio=cv2.VideoCapture(\"../vedios/people.mp4\")\n",
    "while True:\n",
    "    ret, frame = vedio.read()\n",
    "    if not ret:\n",
    "        break\n",
    "    results = model(frame)\n",
    "    labels, cord = results.xyxyn[0][:, -1], results.xyxyn[0][:, :-1]\n",
    "    n = len(labels)\n",
    "    x_shape, y_shape = frame.shape[1], frame.shape[0]\n",
    "    for i in range(n):\n",
    "        row = cord[i]\n",
    "        if model.names[int(labels[i])]!= model.names[0]:\n",
    "            continue\n",
    "        if row[4] >= 0.2:\n",
    "            x1, y1, x2, y2 = int(row[0]*x_shape), int(row[1]*y_shape), int(row[2]*x_shape), int(row[3]*y_shape)\n",
    "            chek=False\n",
    "            for j in range(n):\n",
    "                if i==j:\n",
    "                    continue\n",
    "                row1 = cord[j]\n",
    "                if model.names[int(labels[j])]!= model.names[0]:\n",
    "                    continue\n",
    "                if row1[4] >= 0.2:\n",
    "                    x3, y3, x4, y4 = int(row1[0]*x_shape), int(row1[1]*y_shape), int(row1[2]*x_shape), int(row1[3]*y_shape)\n",
    "                    (cx,cy)=Center(x1,y1,x2,y2)\n",
    "                    (cx1,cy1)=Center(x3,y3,x4,y4)\n",
    "                    distance=Distance(cx,cy,cx1,cy1)\n",
    "                    if distance<40:\n",
    "                        chek=True\n",
    "                        break\n",
    "            if chek==True:\n",
    "                cv2.rectangle(frame, (x1, y1), (x2, y2), (0, 0, 255), 2)\n",
    "                cv2.putText(frame, str(\"Attention !\"), (x1, y1- 10), cv2.FONT_HERSHEY_PLAIN, 0.9, (0, 0, 255), 2)\n",
    "            else:            \n",
    "                cv2.rectangle(frame, (x1, y1), (x2, y2), (0, 255, 0), 2)\n",
    "                cv2.putText(frame, model.names[int(labels[0])], (x1, y1- 10), cv2.FONT_HERSHEY_PLAIN, 0.9, (0, 255, 0), 2)   \n",
    "    cv2.imshow(\"vedio\",frame)\n",
    "    key=cv2.waitKey(1)\n",
    "    if key ==27:\n",
    "        break\n",
    "cv2.destroyAllWindows()"
   ]
  },
  {
   "cell_type": "code",
   "execution_count": null,
   "id": "3e1d76aa",
   "metadata": {},
   "outputs": [],
   "source": []
  }
 ],
 "metadata": {
  "kernelspec": {
   "display_name": "Python 3 (ipykernel)",
   "language": "python",
   "name": "python3"
  },
  "language_info": {
   "codemirror_mode": {
    "name": "ipython",
    "version": 3
   },
   "file_extension": ".py",
   "mimetype": "text/x-python",
   "name": "python",
   "nbconvert_exporter": "python",
   "pygments_lexer": "ipython3",
   "version": "3.9.7"
  }
 },
 "nbformat": 4,
 "nbformat_minor": 5
}
