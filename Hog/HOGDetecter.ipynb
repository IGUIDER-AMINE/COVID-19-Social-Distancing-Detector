{
 "cells": [
  {
   "cell_type": "code",
   "execution_count": 7,
   "metadata": {},
   "outputs": [],
   "source": [
    "import cv2\n",
    "import numpy as np\n",
    "from math import sqrt"
   ]
  },
  {
   "cell_type": "code",
   "execution_count": 8,
   "metadata": {},
   "outputs": [],
   "source": [
    "def Center(x,y,x1,y1):\n",
    "    Cx=x+(x1-x)//2\n",
    "    Cy=y+(y1-y)//2\n",
    "    return (Cx,Cy)\n",
    "def Distance(x,y,x1,y1):\n",
    "    distance=sqrt((x-x1)**2+(y-y1)**2)\n",
    "    return distance"
   ]
  },
  {
   "cell_type": "code",
   "execution_count": 9,
   "metadata": {},
   "outputs": [
    {
     "name": "stdout",
     "output_type": "stream",
     "text": [
      "entrer la distance :40\n"
     ]
    }
   ],
   "source": [
    "distanceInit=int(input(\"entrer la distance :\"))\n",
    "HOGDetecter = cv2.HOGDescriptor()\n",
    "HOGDetecter.setSVMDetector(cv2.HOGDescriptor_getDefaultPeopleDetector())\n",
    "video=cv2.VideoCapture(\"../vedios/people.mp4\")\n",
    "while True:\n",
    "    check,frame=video.read()\n",
    "    if check==False:\n",
    "        break\n",
    "    Bodies, weights =  HOGDetecter.detectMultiScale(frame, winStride = (4, 4), padding = (8, 8), scale = 1.03)\n",
    "\n",
    "    for i in range(len(Bodies)):\n",
    "        (x,y,w,h) = Bodies[i]\n",
    "        cv2.rectangle(frame, (x,y), (x+w,y+h), (0,255,0), 2)\n",
    "        for j in range(i+1, len(Bodies)):\n",
    "            (x1,y1,w1,h1) = Bodies[j]\n",
    "            (cx,cy)=Center(x,y,w,h)\n",
    "            (cx1,cy1)=Center(x1,y1,w1,h1)\n",
    "            distance=Distance(cx,cy,cx1,cy1)\n",
    "            if distance <distanceInit :\n",
    "                cv2.rectangle(frame, (x,y), (x+w,y+h), (0,0,255), 3)\n",
    "                cv2.rectangle(frame, (x1,y1), (x1+w1,y1+h1), (0,0,255), 3)\n",
    "            else:\n",
    "                cv2.rectangle(frame, (x,y), (x+w,y+h), (0,255,0), 3)\n",
    "                cv2.rectangle(frame, (x1,y1), (x1+w1,y1+h1), (0,255,0), 3)\n",
    "    cv2.imshow(\"vedio\", frame)\n",
    "    key = cv2.waitKey(2)\n",
    "    if key==27 :\n",
    "        break\n",
    "cv2.destroyAllWindows()"
   ]
  },
  {
   "cell_type": "code",
   "execution_count": null,
   "metadata": {},
   "outputs": [],
   "source": []
  }
 ],
 "metadata": {
  "kernelspec": {
   "display_name": "Python 3 (ipykernel)",
   "language": "python",
   "name": "python3"
  },
  "language_info": {
   "codemirror_mode": {
    "name": "ipython",
    "version": 3
   },
   "file_extension": ".py",
   "mimetype": "text/x-python",
   "name": "python",
   "nbconvert_exporter": "python",
   "pygments_lexer": "ipython3",
   "version": "3.9.7"
  }
 },
 "nbformat": 4,
 "nbformat_minor": 4
}
