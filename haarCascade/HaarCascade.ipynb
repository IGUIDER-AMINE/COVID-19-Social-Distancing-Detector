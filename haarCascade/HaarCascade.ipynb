{
 "cells": [
  {
   "cell_type": "code",
   "execution_count": 5,
   "id": "b989826c",
   "metadata": {},
   "outputs": [],
   "source": [
    "from numpy import sqrt\n",
    "def euclidienne(x1,y1, x2,y2):\n",
    "    d = sqrt((x1-x2)**2 + (y1-y2)**2)\n",
    "    return d\n",
    "def centre(x,y,w,h):\n",
    "    cx = x + (w-x)//2\n",
    "    cy = y + (h-y)//2\n",
    "    return (cx, cy)"
   ]
  },
  {
   "cell_type": "code",
   "execution_count": 6,
   "id": "206febcb",
   "metadata": {},
   "outputs": [],
   "source": [
    "import cv2"
   ]
  },
  {
   "cell_type": "code",
   "execution_count": 7,
   "id": "452fd41a",
   "metadata": {},
   "outputs": [
    {
     "name": "stdout",
     "output_type": "stream",
     "text": [
      "Saisir la distance: 40\n"
     ]
    }
   ],
   "source": [
    "video=cv2.VideoCapture(\"../vedios/people.mp4\")\n",
    "Personne_classifier = cv2.CascadeClassifier(\"haar/haarcascade_fullbody.xml\")\n",
    "N = int(input(\"Saisir la distance: \"))\n",
    "while True:\n",
    "    check, image=video.read()#2\n",
    "    if check==True:\n",
    "        Personnes = Personne_classifier.detectMultiScale(image)#, scaleFactor=1.3, minNeighbors=5\n",
    "        for (x1,y1,w1,h1) in Personnes:\n",
    "            (cx1, cy1) = centre(x1,y1,w1,h1)\n",
    "            for (x2,y2,w2,h2) in Personnes:\n",
    "                if x1!=x2 and y1!=y2:\n",
    "                    (cx2, cy2) = centre(x2,y2,w2,h2) \n",
    "                    distance = euclidienne(cx1, cy1, cx2, cy2)          \n",
    "            if distance<N:\n",
    "                cv2.rectangle(image,(x1,y1),(x1+w1,y1+h1),(0,0,255),2)\n",
    "                cv2.putText(image, \"Attention !\", (x1, y1 - 10 ), cv2.FONT_HERSHEY_PLAIN, 2,(0,0,255),2)\n",
    "            else:\n",
    "                cv2.rectangle(image, (x1, y1), (x1 + w1, y1 + h1), (0,255,0), 2)\n",
    "                cv2.putText(image, \"personne\", (x1, y1 - 10 ), cv2.FONT_HERSHEY_PLAIN, 2, (0,255,0), 2)\n",
    "#RSULTAT\n",
    "        cv2.imshow(\"Personnes\", image)\n",
    "        key = cv2.waitKey(1)\n",
    "        if key==27:\n",
    "            break\n",
    "    else:\n",
    "        break\n",
    "cv2.destroyAllWindows()\n",
    "video.release()"
   ]
  },
  {
   "cell_type": "code",
   "execution_count": null,
   "id": "c66d97fd",
   "metadata": {},
   "outputs": [],
   "source": [
    "del cv2"
   ]
  }
 ],
 "metadata": {
  "kernelspec": {
   "display_name": "Python 3 (ipykernel)",
   "language": "python",
   "name": "python3"
  },
  "language_info": {
   "codemirror_mode": {
    "name": "ipython",
    "version": 3
   },
   "file_extension": ".py",
   "mimetype": "text/x-python",
   "name": "python",
   "nbconvert_exporter": "python",
   "pygments_lexer": "ipython3",
   "version": "3.9.7"
  }
 },
 "nbformat": 4,
 "nbformat_minor": 5
}
